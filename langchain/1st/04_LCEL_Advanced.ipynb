{
 "cells": [
  {
   "cell_type": "code",
   "execution_count": 1,
   "metadata": {},
   "outputs": [
    {
     "name": "stdout",
     "output_type": "stream",
     "text": [
      "True\n",
      "[API KEY]\n",
      "sk-None-FZcW7iODyxjiAh7qYSpIT3BlbkFJyqnfN***************\n",
      "LangSmith 추적을 시작합니다.\n",
      "[프로젝트명]\n",
      "01_Basic\n"
     ]
    }
   ],
   "source": [
    "from dotenv import load_dotenv\n",
    "import os\n",
    "from langchain_teddynote import logging\n",
    "print(load_dotenv())\n",
    "print(f\"[API KEY]\\n{os.environ['OPENAI_API_KEY'][:-15]}\" + \"*\" * 15)\n",
    "logging.langsmith(\"01_Basic\")"
   ]
  },
  {
   "cell_type": "code",
   "execution_count": 2,
   "metadata": {},
   "outputs": [
    {
     "data": {
      "text/plain": [
       "StrOutputParser()"
      ]
     },
     "execution_count": 2,
     "metadata": {},
     "output_type": "execute_result"
    }
   ],
   "source": [
    "from langchain_openai import ChatOpenAI\n",
    "from langchain_core.prompts import PromptTemplate\n",
    "from langchain_core.output_parsers import StrOutputParser\n",
    "\n",
    "model = ChatOpenAI()\n",
    "\n",
    "prompt = PromptTemplate.from_template('{topic}에 대하여 3문장으로 설명해줘.')\n",
    "StrOutputParser()"
   ]
  },
  {
   "cell_type": "code",
   "execution_count": 4,
   "metadata": {},
   "outputs": [],
   "source": [
    "chain = prompt | model | StrOutputParser()"
   ]
  },
  {
   "cell_type": "markdown",
   "metadata": {},
   "source": [
    "# stream : 실시간 출력"
   ]
  },
  {
   "cell_type": "code",
   "execution_count": 5,
   "metadata": {},
   "outputs": [
    {
     "name": "stdout",
     "output_type": "stream",
     "text": [
      "멀티모달은 여러 가지 방식으로 정보를 전달하거나 사용자와 상호작용하는 기술을 의미합니다. 예를 들어 음성, 텍스트, 이미지, 동영상 등 다양한 형식의 데이터를 결합하여 사용자에게 정보를 제공할 수 있습니다. 이를 통해 보다 풍부한 경험을 제공하고 효율적인 의사소통을 가능하게 합니다."
     ]
    }
   ],
   "source": [
    "for token in chain.stream({'topic':'멀티모달'}):\n",
    "    print(token, end=\"\",flush=True)"
   ]
  },
  {
   "cell_type": "markdown",
   "metadata": {},
   "source": [
    "# invoke: 호출"
   ]
  },
  {
   "cell_type": "code",
   "execution_count": 6,
   "metadata": {},
   "outputs": [
    {
     "data": {
      "text/plain": [
       "'ChatGPT는 자연어 처리 기술을 활용하여 대화를 주고받을 수 있는 인공지능 챗봇이다. 사용자의 질문에 대답하거나 대화를 이어가며 자연스럽고 유익한 상호작용을 제공한다. 머신 러닝 알고리즘을 통해 계속 발전하고 사용자 경험을 향상시키는 중이다.'"
      ]
     },
     "execution_count": 6,
     "metadata": {},
     "output_type": "execute_result"
    }
   ],
   "source": [
    "chain.invoke({'topic':'ChatGPT'})"
   ]
  },
  {
   "cell_type": "markdown",
   "metadata": {},
   "source": [
    "# batch : 배치(단위 실행)"
   ]
  },
  {
   "cell_type": "code",
   "execution_count": 7,
   "metadata": {},
   "outputs": [
    {
     "data": {
      "text/plain": [
       "['ChatGPT는 OpenAI가 개발한 대화형 인공지능 모델로, 사용자와 자연스럽게 대화하며 다양한 주제에 대한 질문에 답변하거나 대화를 이끌어내는 역할을 합니다. 강력한 언어 모델을 기반으로 하여 사람과의 상호작용을 향상시키고, 챗봇, 가이드, 봇 등 다양한 용도로 활용됩니다. 최신 기술을 활용하여 지속적인 학습과 발전을 거듭하며, 사용자에게 더욱 뛰어난 대화 경험을 제공합니다.',\n",
       " '인스타그램은 사진과 동영상을 공유하는 소셜 미디어 플랫폼이다. 사용자들은 팔로워들과 소통하며 일상을 공유하고 새로운 친구들을 만들 수 있다. 해시태그를 활용하여 관심사나 주제별로 다양한 콘텐츠를 찾아볼 수 있다.']"
      ]
     },
     "execution_count": 7,
     "metadata": {},
     "output_type": "execute_result"
    }
   ],
   "source": [
    "chain.batch([{'topic':'chatgpt'}, {'topic':'instargram'}])"
   ]
  },
  {
   "cell_type": "code",
   "execution_count": 8,
   "metadata": {},
   "outputs": [
    {
     "data": {
      "text/plain": [
       "['ChatGPT는 자연어 처리 기술을 기반으로 한 대화형 인공지능 모델로, 다양한 주제에 대한 대화를 진행하고 사용자의 질문에 답변을 제공합니다. 사용자와의 상호작용을 통해 계속적으로 학습하며 더욱 정확하고 유용한 정보를 제공합니다. ChatGPT는 인간과의 자연스러운 대화를 통해 정보를 교환하고 상호작용하는데 사용될 수 있습니다.',\n",
       " 'Instagram은 사진과 동영상을 공유하고 소셜 네트워크 서비스를 제공하는 앱이다. 사용자는 다양한 필터와 편집 기능을 활용하여 자신의 콘텐츠를 공유할 수 있다. 또한 팔로워와 소통하며 자신의 일상을 공유할 수 있는 플랫폼이다.',\n",
       " '멀티모달이란 여러 가지 다양한 형태의 정보를 융합하여 제공하는 시스템을 말합니다. 이는 텍스트, 음성, 이미지, 동영상 등 다양한 매체를 활용하여 사용자에게 정보를 전달합니다. 멀티모달은 사용자 경험을 향상시키고 정보 전달의 효율성을 높여줍니다.',\n",
       " '프로그래밍은 컴퓨터에게 일련의 명령을 내리는 과정이다. 이를 통해 원하는 기능을 수행하고 원하는 결과를 얻을 수 있다. 프로그래밍 언어를 사용하여 문제를 해결하고 프로그램을 개발할 수 있다.',\n",
       " '머신러닝은 컴퓨터가 데이터를 분석하여 패턴을 학습하고 예측하는 인공지능 기술이다. 이를 통해 기계는 스스로 학습하고 결정을 내릴 수 있으며, 다양한 분야에서 활용되고 있다. 머신러닝은 데이터를 기반으로 한 문제 해결에 효과적이며, 계속해서 발전하고 발전해 나가고 있다.']"
      ]
     },
     "execution_count": 8,
     "metadata": {},
     "output_type": "execute_result"
    }
   ],
   "source": [
    "chain.batch(\n",
    "    [\n",
    "        {\"topic\": \"ChatGPT\"},\n",
    "        {\"topic\": \"Instagram\"},\n",
    "        {\"topic\": \"멀티모달\"},\n",
    "        {\"topic\": \"프로그래밍\"},\n",
    "        {\"topic\": \"머신러닝\"},\n",
    "    ],\n",
    "    config={\"max_concurrency\": 3},\n",
    ")"
   ]
  },
  {
   "cell_type": "markdown",
   "metadata": {},
   "source": [
    "# async stream: 비동기 스트림"
   ]
  },
  {
   "cell_type": "code",
   "execution_count": 9,
   "metadata": {},
   "outputs": [
    {
     "name": "stdout",
     "output_type": "stream",
     "text": [
      "YouTube는 전 세계에서 가장 인기 있는 동영상 공유 플랫폼으로, 사용자들이 영상을 업로드하고 시청할 수 있는 서비스이다. 다양한 콘텐츠와 크리에이터들이 활발하게 활동하며, 광고 수익을 통해 수익을 창출할 수도 있다. 또한 라이브 스트리밍과 유료 구독 서비스를 통해 사용자들에게 다양한 옵션을 제공하고 있다."
     ]
    }
   ],
   "source": [
    "async for token in chain.astream({\"topic\": \"YouTube\"}):\n",
    "    print(token, end=\"\", flush=True)"
   ]
  },
  {
   "cell_type": "markdown",
   "metadata": {},
   "source": [
    "# async invoke: 비동기 호출"
   ]
  },
  {
   "cell_type": "code",
   "execution_count": 10,
   "metadata": {},
   "outputs": [
    {
     "data": {
      "text/plain": [
       "'NVDA는 미국의 기업으로, 시각 장애인을 위한 텍스트 음성 변환 프로그램을 제공한다. 이 프로그램은 화면 낭독 소프트웨어로, 시각 장애인들이 컴퓨터를 사용할 수 있도록 도와준다. NVDA는 무료로 제공되며, 오픈 소스로 개발되어 다양한 사용자들에게 접근성을 제공한다.'"
      ]
     },
     "execution_count": 10,
     "metadata": {},
     "output_type": "execute_result"
    }
   ],
   "source": [
    "my_process = chain.ainvoke({\"topic\": \"NVDA\"})\n",
    "await my_process"
   ]
  },
  {
   "cell_type": "markdown",
   "metadata": {},
   "source": [
    "# async batch : 비동기 배치"
   ]
  },
  {
   "cell_type": "code",
   "execution_count": 12,
   "metadata": {},
   "outputs": [
    {
     "name": "stderr",
     "output_type": "stream",
     "text": [
      "C:\\Users\\USER\\AppData\\Local\\Temp\\ipykernel_11832\\3235337906.py:1: RuntimeWarning: coroutine 'RunnableSequence.abatch' was never awaited\n",
      "  my_abatch_process = chain.abatch(\n",
      "RuntimeWarning: Enable tracemalloc to get the object allocation traceback\n"
     ]
    },
    {
     "data": {
      "text/plain": [
       "['YouTube는 구글이 소유하고 운영하는 동영상 공유 플랫폼으로, 사용자들이 영상을 업로드하고 시청할 수 있는 서비스이다. 다양한 주제의 동영상 콘텐츠를 제공하며, 누구나 채널을 개설하여 자신의 영상을 공유할 수 있다. 또한 광고 수익을 얻을 수 있는 파트너 프로그램을 통해 수익을 창출할 수도 있다.',\n",
       " 'Instagram은 사진과 동영상을 공유하고 소셜 네트워크를 형성할 수 있는 애플리케이션입니다. 사용자들은 팔로우하고 좋아요를 누르며 소통하며 자신의 삶을 공유할 수 있습니다. 시각적인 콘텐츠를 중심으로 한 SNS로 전 세계적으로 인기가 높습니다.',\n",
       " 'Facebook은 사람들끼리 소통하고 정보를 공유할 수 있는 SNS 플랫폼이다. 사용자들은 친구들과 가족들과의 연결을 유지하며 다양한 콘텐츠를 공유하고 소셜 네트워크를 형성할 수 있다. 또한 광고 및 마케팅 플랫폼으로도 활용되고 있다.']"
      ]
     },
     "execution_count": 12,
     "metadata": {},
     "output_type": "execute_result"
    }
   ],
   "source": [
    "my_abatch_process = chain.abatch(\n",
    "    [{\"topic\": \"YouTube\"}, {\"topic\": \"Instagram\"}, {\"topic\": \"Facebook\"}]\n",
    ")\n",
    "await my_abatch_process"
   ]
  },
  {
   "cell_type": "markdown",
   "metadata": {},
   "source": [
    "# Parallel: 병렬성"
   ]
  },
  {
   "cell_type": "code",
   "execution_count": 13,
   "metadata": {},
   "outputs": [],
   "source": [
    "from langchain_core.runnables import RunnableParallel\n",
    "\n",
    "chain = (\n",
    "    PromptTemplate.from_template(\"{country}의 수도는 어디입니까?\")\n",
    "    | model\n",
    "    | StrOutputParser()\n",
    ")\n",
    "\n",
    "chain2 = (\n",
    "    PromptTemplate.from_template(\"{country}의 면적은 얼마입니까?\")\n",
    "    | model\n",
    "    | StrOutputParser()\n",
    ")\n",
    "\n",
    "combined = RunnableParallel(capital=chain, area = chain2)\n"
   ]
  },
  {
   "cell_type": "code",
   "execution_count": 14,
   "metadata": {},
   "outputs": [
    {
     "data": {
      "text/plain": [
       "'대한민국의 수도는 서울입니다.'"
      ]
     },
     "execution_count": 14,
     "metadata": {},
     "output_type": "execute_result"
    }
   ],
   "source": [
    "chain.invoke({\"country\": \"대한민국\"})"
   ]
  },
  {
   "cell_type": "code",
   "execution_count": 15,
   "metadata": {},
   "outputs": [
    {
     "data": {
      "text/plain": [
       "'미국의 총 면적은 약 9,833,520km² 입니다.'"
      ]
     },
     "execution_count": 15,
     "metadata": {},
     "output_type": "execute_result"
    }
   ],
   "source": [
    "chain2.invoke({\"country\": \"미국\"})"
   ]
  },
  {
   "cell_type": "code",
   "execution_count": 16,
   "metadata": {},
   "outputs": [
    {
     "data": {
      "text/plain": [
       "{'capital': '대한민국의 수도는 서울입니다.', 'area': '대한민국의 면적은 약 100,363 제곱 킬로미터 입니다.'}"
      ]
     },
     "execution_count": 16,
     "metadata": {},
     "output_type": "execute_result"
    }
   ],
   "source": [
    "combined.invoke({\"country\": \"대한민국\"})"
   ]
  },
  {
   "cell_type": "code",
   "execution_count": 18,
   "metadata": {},
   "outputs": [
    {
     "data": {
      "text/plain": [
       "['대한민국의 수도는 서울입니다.', '미국의 수도는 워싱턴 D.C.입니다.']"
      ]
     },
     "execution_count": 18,
     "metadata": {},
     "output_type": "execute_result"
    }
   ],
   "source": [
    "chain.batch([{\"country\": \"대한민국\"}, {\"country\": \"미국\"}])"
   ]
  },
  {
   "cell_type": "code",
   "execution_count": 19,
   "metadata": {},
   "outputs": [
    {
     "data": {
      "text/plain": [
       "['대한민국의 면적은 약 100,363.4km² 입니다.', '미국의 면적은 약 9,833,520 평밀입니다.']"
      ]
     },
     "execution_count": 19,
     "metadata": {},
     "output_type": "execute_result"
    }
   ],
   "source": [
    "chain2.batch([{\"country\": \"대한민국\"}, {\"country\": \"미국\"}])"
   ]
  },
  {
   "cell_type": "code",
   "execution_count": 20,
   "metadata": {},
   "outputs": [
    {
     "data": {
      "text/plain": [
       "[{'capital': '대한민국의 수도는 서울입니다.', 'area': '대한민국의 총 면적은 약 100,363 제곱 킬로미터입니다.'},\n",
       " {'capital': '미국의 수도는 워싱턴 D.C.입니다.', 'area': '미국의 총 면적은 약 9,833,520km² 입니다.'}]"
      ]
     },
     "execution_count": 20,
     "metadata": {},
     "output_type": "execute_result"
    }
   ],
   "source": [
    "combined.batch([{\"country\": \"대한민국\"}, {\"country\": \"미국\"}])"
   ]
  },
  {
   "cell_type": "code",
   "execution_count": 21,
   "metadata": {},
   "outputs": [],
   "source": [
    "# end of file"
   ]
  }
 ],
 "metadata": {
  "kernelspec": {
   "display_name": "base",
   "language": "python",
   "name": "python3"
  },
  "language_info": {
   "codemirror_mode": {
    "name": "ipython",
    "version": 3
   },
   "file_extension": ".py",
   "mimetype": "text/x-python",
   "name": "python",
   "nbconvert_exporter": "python",
   "pygments_lexer": "ipython3",
   "version": "3.12.4"
  }
 },
 "nbformat": 4,
 "nbformat_minor": 2
}
